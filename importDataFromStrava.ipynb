{
 "cells": [
  {
   "cell_type": "markdown",
   "id": "convertible-enough",
   "metadata": {},
   "source": [
    "pip install stavaio  \n",
    "https://pypi.org/project/stravaio/\n",
    "\n",
    "set up strava api:\n",
    "https://www.strava.com/settings/api\n",
    "\n",
    "https://developers.strava.com/docs/authentication/"
   ]
  },
  {
   "cell_type": "code",
   "execution_count": null,
   "id": "similar-queensland",
   "metadata": {},
   "outputs": [],
   "source": [
    "from stravaio import strava_oauth2\n",
    "#set in data from strava api\n",
    "strava_oauth2(client_id='', client_secret='')"
   ]
  },
  {
   "cell_type": "code",
   "execution_count": 2,
   "id": "spiritual-liabilities",
   "metadata": {},
   "outputs": [],
   "source": [
    "#take  access_token from the output of the cell above, not the strava api\n",
    "from stravaio import StravaIO\n",
    "client = StravaIO(access_token='')"
   ]
  },
  {
   "cell_type": "markdown",
   "id": "manual-scholarship",
   "metadata": {},
   "source": [
    "athlete"
   ]
  },
  {
   "cell_type": "code",
   "execution_count": 15,
   "id": "elect-artwork",
   "metadata": {},
   "outputs": [
    {
     "name": "stdout",
     "output_type": "stream",
     "text": [
      "Ania\n",
      "Wojciechowska\n"
     ]
    }
   ],
   "source": [
    "athlete = client.get_logged_in_athlete()\n",
    "athlete_data = athlete.to_dict()\n",
    "#print(athlete_data['id'])\n",
    "print(athlete_data['firstname'])\n",
    "print(athlete_data['lastname'])"
   ]
  },
  {
   "cell_type": "code",
   "execution_count": 14,
   "id": "selective-honor",
   "metadata": {},
   "outputs": [],
   "source": [
    "# Store athlete infor as a JSON locally (~/.stravadata/athlete_<id>.json)\n",
    "athlete.store_locally()"
   ]
  },
  {
   "cell_type": "markdown",
   "id": "identical-original",
   "metadata": {},
   "source": [
    "activities"
   ]
  },
  {
   "cell_type": "code",
   "execution_count": null,
   "id": "understood-production",
   "metadata": {},
   "outputs": [],
   "source": [
    "# Returns a stravaio.Activity object that wraps the \n",
    "# [Strava DetailedActivity](https://developers.strava.com/docs/reference/#api-models-DetailedActivity)\n",
    "activity = client.get_activity_by_id(2033203247)\n",
    "# Get list of athletes activities since a given date (after) given in a human friendly format.\n",
    "# Kudos to [Maya: Datetimes for Humans(TM)](https://github.com/kennethreitz/maya)\n",
    "# Returns a list of [Strava SummaryActivity](https://developers.strava.com/docs/reference/#api-models-SummaryActivity) objects\n",
    "list_activities = client.get_logged_in_athlete_activities(after='last week')\n",
    "#or all activites:\n",
    "\n",
    "list_activities = client.get_logged_in_athlete_activities()"
   ]
  },
  {
   "cell_type": "code",
   "execution_count": null,
   "id": "suburban-workshop",
   "metadata": {},
   "outputs": [],
   "source": [
    "#storing\n",
    "# Dump activity into a JSON friendly dict\n",
    "activity_dict = activity.to_dict()\n",
    "\n",
    "# Store activity locally (~/.stravadata/activities_<athlete_id>/activity_<id>.json)\n",
    "activity.store_locally()\n",
    "\n",
    "# Obvious use - store all activities locally\n",
    "for a in list_activities:\n",
    "    activity = client.get_activity_by_id(a.id)\n",
    "    activity.store_locally()"
   ]
  },
  {
   "cell_type": "code",
   "execution_count": 16,
   "id": "tough-cartoon",
   "metadata": {},
   "outputs": [
    {
     "name": "stdout",
     "output_type": "stream",
     "text": [
      "Fetched 30, the latests is on 2021-06-13 16:03:54+00:00\n",
      "Fetched 6, the latests is on 2021-06-17 16:26:25+00:00\n"
     ]
    }
   ],
   "source": [
    "list_activities = client.get_logged_in_athlete_activities()"
   ]
  },
  {
   "cell_type": "code",
   "execution_count": 17,
   "id": "smaller-title",
   "metadata": {},
   "outputs": [
    {
     "name": "stdout",
     "output_type": "stream",
     "text": [
      "24\n"
     ]
    }
   ],
   "source": [
    "#filter only swim\n",
    "swim_list = []\n",
    "for a in list_activities:\n",
    "    if a.type == 'Swim':\n",
    "        swim_list.append(a)\n",
    "print(len(swim_list))"
   ]
  },
  {
   "cell_type": "code",
   "execution_count": 18,
   "id": "collective-marriage",
   "metadata": {},
   "outputs": [
    {
     "name": "stdout",
     "output_type": "stream",
     "text": [
      "['__class__', '__delattr__', '__dict__', '__dir__', '__doc__', '__eq__', '__format__', '__ge__', '__getattribute__', '__gt__', '__hash__', '__init__', '__init_subclass__', '__le__', '__lt__', '__module__', '__ne__', '__new__', '__reduce__', '__reduce_ex__', '__repr__', '__setattr__', '__sizeof__', '__str__', '__subclasshook__', '__weakref__', '_achievement_count', '_athlete', '_athlete_count', '_average_speed', '_average_watts', '_comment_count', '_commute', '_device_watts', '_distance', '_elapsed_time', '_elev_high', '_elev_low', '_end_latlng', '_external_id', '_flagged', '_gear_id', '_has_kudoed', '_id', '_kilojoules', '_kudos_count', '_manual', '_map', '_max_speed', '_max_watts', '_moving_time', '_name', '_photo_count', '_private', '_start_date', '_start_date_local', '_start_latlng', '_timezone', '_total_elevation_gain', '_total_photo_count', '_trainer', '_type', '_upload_id', '_weighted_average_watts', '_workout_type', 'achievement_count', 'athlete', 'athlete_count', 'attribute_map', 'average_speed', 'average_watts', 'comment_count', 'commute', 'device_watts', 'discriminator', 'distance', 'elapsed_time', 'elev_high', 'elev_low', 'end_latlng', 'external_id', 'flagged', 'gear_id', 'has_kudoed', 'id', 'kilojoules', 'kudos_count', 'manual', 'map', 'max_speed', 'max_watts', 'moving_time', 'name', 'photo_count', 'private', 'start_date', 'start_date_local', 'start_latlng', 'swagger_types', 'timezone', 'to_dict', 'to_str', 'total_elevation_gain', 'total_photo_count', 'trainer', 'type', 'upload_id', 'weighted_average_watts', 'workout_type']\n"
     ]
    }
   ],
   "source": [
    "print(dir(swim_list[0]))"
   ]
  },
  {
   "cell_type": "code",
   "execution_count": 19,
   "id": "painted-mercury",
   "metadata": {},
   "outputs": [
    {
     "name": "stdout",
     "output_type": "stream",
     "text": [
      "{'achievement_count': 0,\n",
      " 'athlete': {'id': 47603037},\n",
      " 'athlete_count': 1,\n",
      " 'average_speed': 1.879,\n",
      " 'average_watts': None,\n",
      " 'comment_count': 0,\n",
      " 'commute': False,\n",
      " 'device_watts': None,\n",
      " 'distance': 1257.1,\n",
      " 'elapsed_time': 3869,\n",
      " 'elev_high': 183.1,\n",
      " 'elev_low': 182.8,\n",
      " 'end_latlng': [59.93, 11.22],\n",
      " 'external_id': 'f852b8cf-4305-464b-8619-e7354f9015e7-activity.fit',\n",
      " 'flagged': False,\n",
      " 'gear_id': None,\n",
      " 'has_kudoed': False,\n",
      " 'id': 3665023245,\n",
      " 'kilojoules': None,\n",
      " 'kudos_count': 1,\n",
      " 'manual': False,\n",
      " 'map': {'id': 'a3665023245',\n",
      "         'polyline': None,\n",
      "         'summary_polyline': 'q{wlJiwmcABCB?EA?ECAFJ?C@F?C?@EFAC?BIHG?OXGZOFKJ_@LGAI@IAMBI?[DQAO?ABG@QAi@MQISCGEO?SKYIq@e@g@m@EAUg@Ky@@k@PgBBo@R{ALg@?UHu@HcAHW@[H]FMBUBA@K?KLSFo@DE@MBADMBABKHM?OHWHa@AU@OCBHa@A@AI?DAAB@ANKXCVAREJAb@s@nDKr@An@EFEXGPI|@UP_@z@[h@Md@Ab@?h@@PAf@H~AFJBNTv@RXHFBFL?b@TJ?FJJEJFH?JFD?NCD@JGNFP?TLBCZHDABDF@NILBVAXBXELGL?LKHEJHADBBJCJFLK?C'},\n",
      " 'max_speed': 1.8,\n",
      " 'max_watts': None,\n",
      " 'moving_time': 669,\n",
      " 'name': 'Heia',\n",
      " 'photo_count': 0,\n",
      " 'private': False,\n",
      " 'start_date': datetime.datetime(2020, 6, 24, 16, 22, 6, tzinfo=tzutc()),\n",
      " 'start_date_local': datetime.datetime(2020, 6, 24, 18, 22, 6, tzinfo=tzutc()),\n",
      " 'start_latlng': [59.93, 11.22],\n",
      " 'timezone': '(GMT+01:00) Europe/Oslo',\n",
      " 'total_elevation_gain': 0.0,\n",
      " 'total_photo_count': 3,\n",
      " 'trainer': False,\n",
      " 'type': 'Swim',\n",
      " 'upload_id': 3913021003,\n",
      " 'weighted_average_watts': None,\n",
      " 'workout_type': None}\n"
     ]
    }
   ],
   "source": [
    "print(swim_list[0])"
   ]
  },
  {
   "cell_type": "code",
   "execution_count": null,
   "id": "unlike-trade",
   "metadata": {},
   "outputs": [],
   "source": []
  }
 ],
 "metadata": {
  "kernelspec": {
   "display_name": "Python 3",
   "language": "python",
   "name": "python3"
  },
  "language_info": {
   "codemirror_mode": {
    "name": "ipython",
    "version": 3
   },
   "file_extension": ".py",
   "mimetype": "text/x-python",
   "name": "python",
   "nbconvert_exporter": "python",
   "pygments_lexer": "ipython3",
   "version": "3.8.5"
  }
 },
 "nbformat": 4,
 "nbformat_minor": 5
}
